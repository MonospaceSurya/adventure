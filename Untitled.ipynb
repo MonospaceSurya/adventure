{
 "cells": [
  {
   "cell_type": "code",
   "execution_count": 13,
   "id": "e739ebdd",
   "metadata": {},
   "outputs": [
    {
     "ename": "NameError",
     "evalue": "name 'sphere' is not defined",
     "output_type": "error",
     "traceback": [
      "\u001b[1;31m---------------------------------------------------------------------------\u001b[0m",
      "\u001b[1;31mNameError\u001b[0m                                 Traceback (most recent call last)",
      "Cell \u001b[1;32mIn[13], line 3\u001b[0m\n\u001b[0;32m      1\u001b[0m \u001b[38;5;28;01mfrom\u001b[39;00m \u001b[38;5;21;01msdf\u001b[39;00m \u001b[38;5;28;01mimport\u001b[39;00m \u001b[38;5;241m*\u001b[39m\n\u001b[1;32m----> 3\u001b[0m s \u001b[38;5;241m=\u001b[39m \u001b[43msphere\u001b[49m(\u001b[38;5;241m0.75\u001b[39m)\n\u001b[0;32m      4\u001b[0m s \u001b[38;5;241m=\u001b[39m s\u001b[38;5;241m.\u001b[39mtranslate(Z \u001b[38;5;241m*\u001b[39m \u001b[38;5;241m-\u001b[39m\u001b[38;5;241m3\u001b[39m) \u001b[38;5;241m|\u001b[39m s\u001b[38;5;241m.\u001b[39mtranslate(Z \u001b[38;5;241m*\u001b[39m \u001b[38;5;241m3\u001b[39m)\n\u001b[0;32m      5\u001b[0m s \u001b[38;5;241m=\u001b[39m s\u001b[38;5;241m.\u001b[39munion(capsule(Z \u001b[38;5;241m*\u001b[39m \u001b[38;5;241m-\u001b[39m\u001b[38;5;241m3\u001b[39m, Z \u001b[38;5;241m*\u001b[39m \u001b[38;5;241m3\u001b[39m, \u001b[38;5;241m0.5\u001b[39m), k\u001b[38;5;241m=\u001b[39m\u001b[38;5;241m1\u001b[39m)\n",
      "\u001b[1;31mNameError\u001b[0m: name 'sphere' is not defined"
     ]
    }
   ],
   "source": [
    "from sdf import *\n",
    "\n",
    "s = sphere(0.75)\n",
    "s = s.translate(Z * -3) | s.translate(Z * 3)\n",
    "s = s.union(capsule(Z * -3, Z * 3, 0.5), k=1)\n",
    "\n",
    "f = sphere(1.5).union(s.orient(X), s.orient(Y), s.orient(Z), k=1)\n",
    "\n",
    "f.save('blobby.stl', samples=2**26)"
   ]
  },
  {
   "cell_type": "code",
   "execution_count": 2,
   "id": "f347f08f",
   "metadata": {},
   "outputs": [
    {
     "name": "stdout",
     "output_type": "stream",
     "text": [
      "Name: SDF\n",
      "Version: 0.3.6\n",
      "Summary: Work with Scientific Data Format files in Python\n",
      "Home-page: https://github.com/ScientificDataFormat/SDF-Python\n",
      "Author: Torsten Sommer\n",
      "Author-email: torsten.sommer@3ds.com\n",
      "License: Standard 3-clause BSD\n",
      "Location: D:\\Anaconda\\Lib\\site-packages\n",
      "Requires: h5py, matplotlib, numpy, scipy\n",
      "Required-by: \n",
      "Note: you may need to restart the kernel to use updated packages.\n"
     ]
    }
   ],
   "source": [
    "pip show sdf"
   ]
  }
 ],
 "metadata": {
  "kernelspec": {
   "display_name": "Python 3 (ipykernel)",
   "language": "python",
   "name": "python3"
  },
  "language_info": {
   "codemirror_mode": {
    "name": "ipython",
    "version": 3
   },
   "file_extension": ".py",
   "mimetype": "text/x-python",
   "name": "python",
   "nbconvert_exporter": "python",
   "pygments_lexer": "ipython3",
   "version": "3.11.4"
  }
 },
 "nbformat": 4,
 "nbformat_minor": 5
}
